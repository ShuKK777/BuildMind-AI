{
 "cells": [
  {
   "cell_type": "code",
   "execution_count": 16,
   "id": "6b1631a3",
   "metadata": {},
   "outputs": [
    {
     "name": "stdout",
     "output_type": "stream",
     "text": [
      "状态码: 200\n",
      "返回结果: [['mob_004.jpeg', 0.9996168613433838], ['mob_001.jpeg', 0.00038251825026236475]]\n"
     ]
    }
   ],
   "source": [
    "import requests\n",
    "\n",
    "# API 地址\n",
    "url = \"http://localhost:8848/semantic_search\"\n",
    "\n",
    "# 请求数据\n",
    "payload = {\n",
    "    \"text_query\": \"red,water\",\n",
    "    \"top_k\": 2,\n",
    "    # \"filters\": {\n",
    "    #     \"height_level_int\": 10,\n",
    "    # }\n",
    "}\n",
    "\n",
    "# 发送 POST 请求\n",
    "response = requests.post(url, json=payload)\n",
    "\n",
    "# 打印结果\n",
    "print(\"状态码:\", response.status_code)\n",
    "print(\"返回结果:\", response.json())"
   ]
  },
  {
   "cell_type": "code",
   "execution_count": null,
   "id": "e8a2f592",
   "metadata": {},
   "outputs": [],
   "source": [
    "# 访问图片 http://localhost:8848/images/mob_001.jpeg"
   ]
  },
  {
   "cell_type": "code",
   "execution_count": null,
   "id": "f89e8d12",
   "metadata": {},
   "outputs": [],
   "source": []
  }
 ],
 "metadata": {
  "kernelspec": {
   "display_name": "tmp",
   "language": "python",
   "name": "python3"
  },
  "language_info": {
   "codemirror_mode": {
    "name": "ipython",
    "version": 3
   },
   "file_extension": ".py",
   "mimetype": "text/x-python",
   "name": "python",
   "nbconvert_exporter": "python",
   "pygments_lexer": "ipython3",
   "version": "3.12.11"
  }
 },
 "nbformat": 4,
 "nbformat_minor": 5
}
